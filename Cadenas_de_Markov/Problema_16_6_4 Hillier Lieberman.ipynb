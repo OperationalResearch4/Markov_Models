{
  "nbformat": 4,
  "nbformat_minor": 0,
  "metadata": {
    "colab": {
      "name": "Problema 16.6-4.ipynb",
      "provenance": [],
      "collapsed_sections": []
    },
    "kernelspec": {
      "name": "python3",
      "display_name": "Python 3"
    },
    "language_info": {
      "name": "python"
    }
  },
  "cells": [
    {
      "cell_type": "markdown",
      "source": [
        "**Problema 16.6-4 Hillier Lieberman Novena Edición**\n",
        "\n",
        "Considere el ejemplo de inventarios de la sección 16.1 pero \n",
        "ahora la demanda tiene la siguiente distribución de probabilidad:\n",
        "\n",
        "*  P{D = 0} = 1/4 \n",
        "*  P{D = 1} = 1/2\n",
        "*  P{D = 2} = 1/4\n",
        "*  P{D ≥ 3} = 0\n",
        "\n",
        "La política de órdenes cambia al ordenar exactamente dos cámaras al \n",
        "final de la semana si el inventario es cero. Como antes, no se ordena si \n",
        "hay cámaras en inventario. Suponga que se tiene una cámara (al final \n",
        "de la semana) cuando se instituye la política.\n",
        "\n",
        "**a)** Construya la matriz de transición (de un paso).\n",
        "\n",
        "**b)** Encuentre la distribución de probabilidad del estado de esta \n",
        "cadena de Markov n semanas después de instituir la nueva \n",
        "política de inventarios, para n = 2, 5, 10.\n",
        "\n",
        "**c)** Encuentre las $µ_{ij}$ (el tiempo esperado de primera pasada del estado i al j) para toda i y j.\n",
        "\n",
        "**d)** Encuentre las probabilidades de estado estable del estado de \n",
        "esta cadena de Markov. \n",
        "\n",
        "**e)** Bajo el supuesto de que la tienda paga un costo de almacenamiento por cada cámara que queda en la repisa al final de la semana, de acuerdo con la función C(0) = 0, C(1) = \\\\$2, C(2) = \\\\$8, encuentre el costo promedio de almacenamiento a largo plazo \n",
        "por semana."
      ],
      "metadata": {
        "id": "fOvamz9eB_6d"
      }
    },
    {
      "cell_type": "markdown",
      "source": [
        "**Pregunta (b):**"
      ],
      "metadata": {
        "id": "w-meLR622WYM"
      }
    },
    {
      "cell_type": "markdown",
      "source": [
        "**Para n = 2:**"
      ],
      "metadata": {
        "id": "_MTKdzgm2abi"
      }
    },
    {
      "cell_type": "code",
      "execution_count": null,
      "metadata": {
        "id": "rh_DivEU_Tcs",
        "colab": {
          "base_uri": "https://localhost:8080/"
        },
        "outputId": "e7dc0431-e3ca-4366-d04e-d406ecf187de"
      },
      "outputs": [
        {
          "output_type": "stream",
          "name": "stdout",
          "text": [
            "[[0.5    0.375  0.125 ]\n",
            " [0.375  0.4375 0.1875]\n",
            " [0.5    0.375  0.125 ]]\n"
          ]
        }
      ],
      "source": [
        "import numpy as np\n",
        "\n",
        "P = np.array([[0.25, 0.5, 0.25],\n",
        "              [0.75, 0.25, 0],\n",
        "              [0.25, 0.5, 0.25]])\n",
        "\n",
        "P2 = np.linalg.matrix_power(A, 2)\n",
        "\n",
        "print(P2)"
      ]
    },
    {
      "cell_type": "markdown",
      "source": [
        "**Para n = 5:**"
      ],
      "metadata": {
        "id": "JV_xfKSD2dCj"
      }
    },
    {
      "cell_type": "markdown",
      "source": [
        "Primero calculamos $P^{(4)}$ al realizar los cálculos en el archivo PDF. Se incluye este resultado en el código para verificar el resultado."
      ],
      "metadata": {
        "id": "gS-jr5_K3Gk3"
      }
    },
    {
      "cell_type": "code",
      "source": [
        "P4 = np.linalg.matrix_power(P, 4)\n",
        "print(P4)"
      ],
      "metadata": {
        "colab": {
          "base_uri": "https://localhost:8080/"
        },
        "id": "AxI2AuF43EkI",
        "outputId": "e5e2bb83-a669-4067-b81d-1561877ac690"
      },
      "execution_count": null,
      "outputs": [
        {
          "output_type": "stream",
          "name": "stdout",
          "text": [
            "[[0.453125   0.3984375  0.1484375 ]\n",
            " [0.4453125  0.40234375 0.15234375]\n",
            " [0.453125   0.3984375  0.1484375 ]]\n"
          ]
        }
      ]
    },
    {
      "cell_type": "markdown",
      "source": [
        "Luego, obtenemos $P^{(5)}$"
      ],
      "metadata": {
        "id": "3bOvjFy337Fj"
      }
    },
    {
      "cell_type": "code",
      "source": [
        "P5 = np.linalg.matrix_power(P, 5)\n",
        "print(P5)"
      ],
      "metadata": {
        "colab": {
          "base_uri": "https://localhost:8080/"
        },
        "id": "FRsX_fD63_iL",
        "outputId": "7e9aefee-6cd3-4283-d9c2-47c1f49674d4"
      },
      "execution_count": null,
      "outputs": [
        {
          "output_type": "stream",
          "name": "stdout",
          "text": [
            "[[0.44921875 0.40039062 0.15039062]\n",
            " [0.45117188 0.39941406 0.14941406]\n",
            " [0.44921875 0.40039062 0.15039062]]\n"
          ]
        }
      ]
    },
    {
      "cell_type": "markdown",
      "source": [
        "**Para n = 10:**"
      ],
      "metadata": {
        "id": "bp20vo3s40Q-"
      }
    },
    {
      "cell_type": "markdown",
      "source": [
        "Calculamos $P^{(10)}$"
      ],
      "metadata": {
        "id": "BKGT1jcjpWG6"
      }
    },
    {
      "cell_type": "code",
      "source": [
        "P10 = np.linalg.matrix_power(P, 10)\n",
        "print(P10)"
      ],
      "metadata": {
        "id": "93OFus7l42Ss",
        "outputId": "e4484320-9b33-4660-b334-15851569099e",
        "colab": {
          "base_uri": "https://localhost:8080/"
        }
      },
      "execution_count": null,
      "outputs": [
        {
          "output_type": "stream",
          "name": "stdout",
          "text": [
            "[[0.45000076 0.39999962 0.14999962]\n",
            " [0.44999886 0.40000057 0.15000057]\n",
            " [0.45000076 0.39999962 0.14999962]]\n"
          ]
        }
      ]
    }
  ]
}