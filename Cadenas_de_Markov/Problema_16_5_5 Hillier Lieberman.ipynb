{
  "nbformat": 4,
  "nbformat_minor": 0,
  "metadata": {
    "colab": {
      "name": "Problema 16.5-5.ipynb",
      "provenance": [],
      "collapsed_sections": []
    },
    "kernelspec": {
      "name": "python3",
      "display_name": "Python 3"
    },
    "language_info": {
      "name": "python"
    }
  },
  "cells": [
    {
      "cell_type": "markdown",
      "source": [
        "**Problema 16.5-5 Hillier Lieberman Novena Edición**\n",
        "\n",
        "Considere el siguiente problema de inventario de sangre al \n",
        "que se enfrenta un hospital. Se tiene necesidad de un tipo raro de \n",
        "sangre, como AB, Rh negativo. La demanda D (en pintas) durante un \n",
        "periodo de tres días está dada por:\n",
        "\n",
        "* P{D = 0} = 0.4\n",
        "* P{D = 1} =  0.3\n",
        "* P{D = 2} = 0.2\n",
        "* P{D = 3} = 0.1\n",
        "\n",
        "Observe que la demanda esperada es de una pinta, puesto que E(D) = 0.3(1) + 0.2(2) + 0.1(3) = 1. Suponga que se surte de sangre cada tres \n",
        "días. El hospital propone una política para recibir una pinta en cada \n",
        "entrega y usar primero la más antigua. Si se requiere más sangre de la \n",
        "que hay en el banco se hace un pedido de emergencia a un alto costo. \n",
        "La sangre se descarta si en 21 días no se ha usado. Denote el estado \n",
        "del sistema como el número de pintas en inventario exactamente después de una entrega. Observe que debido a la política de descartar la \n",
        "sangre, el estado más grande posible es 7.\n",
        "\n",
        "**a)** Construya la matriz de transición (de un paso) para esta cadena \n",
        "de Markov.\n",
        "\n",
        "**b)** Encuentre las probabilidades de estado estable para los estados de esta cadena de Markov.\n",
        "\n",
        "**c)** Use los resultados de b) para encontrar la probabilidad de estado \n",
        "estable de que sea necesario descartar una pinta durante un periodo de tres días. (Sugerencia: Si se usa primero la sangre más vieja, una pinta tiene 21 días sólo si el estado es 7 y entonces D = 0.)\n",
        "\n",
        "**d)** Utilice los resultados de b) para encontrar la probabilidad de \n",
        "estado de que se necesite una entrega de emergencia durante los \n",
        "tres días entre entregas normales."
      ],
      "metadata": {
        "id": "39wBV64i_dqU"
      }
    },
    {
      "cell_type": "markdown",
      "source": [
        "**Código para obtener la solución del sistema de ecuaciones de la pregunta b (probabilidades de estado estable):**\n",
        "\n",
        "\n",
        "\n"
      ],
      "metadata": {
        "id": "zGiy0iOuYb8B"
      }
    },
    {
      "cell_type": "code",
      "source": [
        "import numpy as np\n",
        "\n",
        "A = np.array([[0.4, -0.7, 0.2, 0.1, 0, 0, 0],\n",
        "              [0, 0.4, -0.7, 0.2, 0.1, 0, 0],\n",
        "              [0, 0, 0.4, -0.7, 0.2, 0.1, 0],\n",
        "              [0, 0, 0, 0.4, -0.7, 0.2, 0.1],\n",
        "              [0, 0, 0, 0, 0.4, -0.7, 0.2],\n",
        "              [0, 0, 0, 0, 0, 0.4, -0.3],\n",
        "              [1, 1, 1, 1, 1, 1, 1]])\n",
        "\n",
        "B = np.array([0, 0, 0, 0, 0, 0, 1])\n",
        "X = np.linalg.inv(A).dot(B)\n",
        "\n",
        "print(X)"
      ],
      "metadata": {
        "colab": {
          "base_uri": "https://localhost:8080/"
        },
        "id": "R8E2OCoArh-q",
        "outputId": "d503541c-60c4-41cc-cb1b-e48142876017"
      },
      "execution_count": null,
      "outputs": [
        {
          "output_type": "stream",
          "name": "stdout",
          "text": [
            "[0.13889713 0.13885475 0.13902429 0.13834612 0.14105879 0.13020811\n",
            " 0.17361082]\n"
          ]
        }
      ]
    }
  ]
}