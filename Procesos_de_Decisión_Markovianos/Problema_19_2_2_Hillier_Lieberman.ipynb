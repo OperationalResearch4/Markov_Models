{
  "nbformat": 4,
  "nbformat_minor": 0,
  "metadata": {
    "colab": {
      "name": "Problema 19.2-2 Hillier Lieberman.ipynb",
      "provenance": []
    },
    "kernelspec": {
      "name": "python3",
      "display_name": "Python 3"
    },
    "language_info": {
      "name": "python"
    }
  },
  "cells": [
    {
      "cell_type": "markdown",
      "source": [
        "Para la politica $R_1$"
      ],
      "metadata": {
        "id": "m7mBBqqKNTx9"
      }
    },
    {
      "cell_type": "code",
      "source": [
        "import numpy as np\n",
        "\n",
        "A = np.array([[-1/2, 3/10, 0],\n",
        "              [1/2, -1/2, 3/5],\n",
        "              [1, 1, 1]])\n",
        "\n",
        "B = np.array([0, 0, 1])\n",
        "X = np.linalg.inv(A).dot(B)\n",
        "\n",
        "print(X)"
      ],
      "metadata": {
        "colab": {
          "base_uri": "https://localhost:8080/"
        },
        "id": "rjHzci7-5iOt",
        "outputId": "c1c206c3-9f70-4e78-db91-e329fa0878a0"
      },
      "execution_count": 3,
      "outputs": [
        {
          "output_type": "stream",
          "name": "stdout",
          "text": [
            "[0.31034483 0.51724138 0.17241379]\n"
          ]
        }
      ]
    },
    {
      "cell_type": "markdown",
      "source": [
        "Para la política $R_2$:"
      ],
      "metadata": {
        "id": "5aZTnUZM6W6h"
      }
    },
    {
      "cell_type": "code",
      "source": [
        "import numpy as np\n",
        "\n",
        "A = np.array([[-1/2, 3/10, 0],\n",
        "              [1/2, -1/2, 4/5],\n",
        "              [1, 1, 1]])\n",
        "\n",
        "B = np.array([0, 0, 1])\n",
        "X = np.linalg.inv(A).dot(B)\n",
        "\n",
        "print(X)"
      ],
      "metadata": {
        "colab": {
          "base_uri": "https://localhost:8080/"
        },
        "id": "6pE3xtK56ZaQ",
        "outputId": "b0af55f8-1cd2-40bb-f667-f44e57a22468"
      },
      "execution_count": 7,
      "outputs": [
        {
          "output_type": "stream",
          "name": "stdout",
          "text": [
            "[0.32432432 0.54054054 0.13513514]\n"
          ]
        }
      ]
    },
    {
      "cell_type": "markdown",
      "source": [
        "Para la política $R_3$:"
      ],
      "metadata": {
        "id": "aKiSJa6I97SJ"
      }
    },
    {
      "cell_type": "code",
      "source": [
        "import numpy as np\n",
        "\n",
        "A = np.array([[-1/2, 2/5, 0],\n",
        "              [0, 1/10, -3/5],\n",
        "              [1, 1, 1]])\n",
        "\n",
        "B = np.array([0, 0, 1])\n",
        "X = np.linalg.inv(A).dot(B)\n",
        "\n",
        "print(X)"
      ],
      "metadata": {
        "colab": {
          "base_uri": "https://localhost:8080/"
        },
        "id": "wfVMqn8r986p",
        "outputId": "16127fca-e740-4a77-a699-67071775b726"
      },
      "execution_count": 8,
      "outputs": [
        {
          "output_type": "stream",
          "name": "stdout",
          "text": [
            "[0.40677966 0.50847458 0.08474576]\n"
          ]
        }
      ]
    },
    {
      "cell_type": "markdown",
      "source": [
        "Para la política $R_4$"
      ],
      "metadata": {
        "id": "CFtjuyyHAJyt"
      }
    },
    {
      "cell_type": "code",
      "source": [
        "import numpy as np\n",
        "\n",
        "A = np.array([[-1/2, 2/5, 0],\n",
        "              [1/2, -1/2, 3/5],\n",
        "              [1, 1, 1]])\n",
        "\n",
        "B = np.array([0, 0, 1])\n",
        "X = np.linalg.inv(A).dot(B)\n",
        "\n",
        "print(X)"
      ],
      "metadata": {
        "colab": {
          "base_uri": "https://localhost:8080/"
        },
        "id": "c69voICRALDP",
        "outputId": "6b04a121-2199-4634-c503-a36256957225"
      },
      "execution_count": 9,
      "outputs": [
        {
          "output_type": "stream",
          "name": "stdout",
          "text": [
            "[0.40677966 0.50847458 0.08474576]\n"
          ]
        }
      ]
    }
  ]
}