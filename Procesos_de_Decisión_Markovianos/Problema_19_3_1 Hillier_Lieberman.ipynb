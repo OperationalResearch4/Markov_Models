{
  "nbformat": 4,
  "nbformat_minor": 0,
  "metadata": {
    "colab": {
      "name": "Problema 19.3-1.ipynb",
      "provenance": []
    },
    "kernelspec": {
      "name": "python3",
      "display_name": "Python 3"
    },
    "language_info": {
      "name": "python"
    }
  },
  "cells": [
    {
      "cell_type": "markdown",
      "source": [
        "**(b) Modelo de Programación Lineal para Encontrar una Política Óptima**"
      ],
      "metadata": {
        "id": "7bCB3CpbkKDf"
      }
    },
    {
      "cell_type": "code",
      "execution_count": 3,
      "metadata": {
        "colab": {
          "base_uri": "https://localhost:8080/"
        },
        "id": "QolO0ucPhwte",
        "outputId": "185b386c-8395-46ce-bbf9-093a4e2acda4"
      },
      "outputs": [
        {
          "output_type": "stream",
          "name": "stdout",
          "text": [
            "[0.32432432 0.         0.54054054 0.         0.         0.13513514]\n"
          ]
        },
        {
          "output_type": "stream",
          "name": "stderr",
          "text": [
            "/usr/local/lib/python3.7/dist-packages/ipykernel_launcher.py:21: OptimizeWarning: A_eq does not appear to be of full row rank. To improve performance, check the problem formulation for redundant equality constraints.\n"
          ]
        }
      ],
      "source": [
        "from scipy.optimize import linprog\n",
        "\n",
        "# Coeficientes de la función objetivo.\n",
        "#     y01 y02 y11 y12 y21 y22\n",
        "obj = [3,  9,  3,  9,  28, 34]\n",
        "\n",
        "# Lado izquierdo de las restricciones de igualdad.\n",
        "lhs_eq = [[1, 1, 1, 1, 1, 1],\n",
        "          [1/2, 1/2, -3/10, -2/5, 0, 0],\n",
        "          [-1/2, -1/2, 1/2, 1/2, -3/5, -4/5],\n",
        "          [0, 0, -2/10, -1/10, 3/5, 4/5]]\n",
        "\n",
        "# Lado derecho de las restricciones de igualdad.\n",
        "rhs_eq = [1, 0, 0, 0]\n",
        "\n",
        "# Posibles valores de las variables de restricción. Mayor o igual a 0.\n",
        "bnd = [(0, float(\"inf\")),\n",
        "       (0, float(\"inf\")),\n",
        "       (0, float(\"inf\")),\n",
        "       (0, float(\"inf\")),\n",
        "       (0, float(\"inf\")),\n",
        "       (0, float(\"inf\"))]\n",
        "\n",
        "# Resolver el modelo de programación lineal.\n",
        "opt = linprog(c=obj, A_eq=lhs_eq, b_eq=rhs_eq, bounds=bnd, method=\"revised simplex\")\n",
        "\n",
        "# Mostrar el resultado.\n",
        "print(opt.x)"
      ]
    },
    {
      "cell_type": "markdown",
      "source": [
        "Según los resultados obtenidos:\n",
        "\n",
        "$y_{01} = 0.32432432$\n",
        "\n",
        "$y_{02} = 0$\n",
        "\n",
        "$y_{11} = 0.54054$\n",
        "\n",
        "$y_{12} = 0$\n",
        "\n",
        "$y_{21} = 0$\n",
        "\n",
        "$y_{22} = 0.13513514$\n",
        "\n",
        "Por lo tanto, la **política óptima** es tomar la decisión 1 en los estados 0 y 1 y tomar la decisión 2 en el estado 2. "
      ],
      "metadata": {
        "id": "54FyZnD2kh0g"
      }
    }
  ]
}