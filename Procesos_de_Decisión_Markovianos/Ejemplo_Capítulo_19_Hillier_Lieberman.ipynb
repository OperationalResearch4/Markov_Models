{
  "nbformat": 4,
  "nbformat_minor": 0,
  "metadata": {
    "colab": {
      "name": "Ejemplo Capítulo 19 Hillier Lieberman.ipynb",
      "provenance": []
    },
    "kernelspec": {
      "name": "python3",
      "display_name": "Python 3"
    },
    "language_info": {
      "name": "python"
    }
  },
  "cells": [
    {
      "cell_type": "markdown",
      "source": [
        "**Política $R_{a}$**: Costo Promedio Estimado a Largo Plazo"
      ],
      "metadata": {
        "id": "neU3duYcjCPB"
      }
    },
    {
      "cell_type": "code",
      "execution_count": null,
      "metadata": {
        "colab": {
          "base_uri": "https://localhost:8080/"
        },
        "id": "zN_wR8EBV--O",
        "outputId": "5631db65-43ac-41b3-f735-153b478def82"
      },
      "outputs": [
        {
          "output_type": "stream",
          "name": "stdout",
          "text": [
            "[0.15384615 0.53846154 0.15384615 0.15384615]\n"
          ]
        }
      ],
      "source": [
        "import numpy as np\n",
        "\n",
        "A = np.array([[-1, 0, 0, 1],\n",
        "              [1/16, 1/8, -1/2, 0],\n",
        "              [1/16, 1/8, 1/2, -1],\n",
        "              [1, 1, 1, 1]])\n",
        "\n",
        "B = np.array([0, 0, 0, 1])\n",
        "X = np.linalg.inv(A).dot(B)\n",
        "\n",
        "print(X)"
      ]
    },
    {
      "cell_type": "markdown",
      "source": [
        "**Política $R_{b}$**: Costo Promedio Estimado a Largo Plazo"
      ],
      "metadata": {
        "id": "LS_gKJV1lz8Q"
      }
    },
    {
      "cell_type": "code",
      "source": [
        "import numpy as np\n",
        "\n",
        "A = np.array([[-1, 0, 0, 1],\n",
        "              [7/8, -1/4, 1, 0],\n",
        "              [1/16, 1/8, -1, 0],\n",
        "              [1, 1, 1, 1]])\n",
        "\n",
        "B = np.array([0, 0, 0, 1])\n",
        "X = np.linalg.inv(A).dot(B)\n",
        "\n",
        "print(X)"
      ],
      "metadata": {
        "id": "JLyGfz46lzrd",
        "colab": {
          "base_uri": "https://localhost:8080/"
        },
        "outputId": "53f1c3cb-843c-49a3-e801-547a56f366ff"
      },
      "execution_count": null,
      "outputs": [
        {
          "output_type": "stream",
          "name": "stdout",
          "text": [
            "[0.0952381  0.71428571 0.0952381  0.0952381 ]\n"
          ]
        }
      ]
    },
    {
      "cell_type": "markdown",
      "source": [
        "**Política $R_{c}$**: Costo Promedio Estimado a Largo Plazo"
      ],
      "metadata": {
        "id": "asFK2yaEo7AM"
      }
    },
    {
      "cell_type": "code",
      "source": [
        "import numpy as np\n",
        "\n",
        "A = np.array([[-1, 0, 1, 1],\n",
        "              [7/8, -1/4, 0, 0],\n",
        "              [1/16, 1/8, -1, 0],\n",
        "              [1, 1, 1, 1]])\n",
        "\n",
        "B = np.array([0, 0, 0, 1])\n",
        "X = np.linalg.inv(A).dot(B)\n",
        "\n",
        "print(X)"
      ],
      "metadata": {
        "colab": {
          "base_uri": "https://localhost:8080/"
        },
        "id": "Y3exawhZo_2d",
        "outputId": "1ac437e0-f3ba-454b-9b11-0ea841c6b514"
      },
      "execution_count": null,
      "outputs": [
        {
          "output_type": "stream",
          "name": "stdout",
          "text": [
            "[0.18181818 0.63636364 0.09090909 0.09090909]\n"
          ]
        }
      ]
    },
    {
      "cell_type": "markdown",
      "source": [
        "**Política $R_{d}$**: Costo Promedio Estimado a Largo Plazo"
      ],
      "metadata": {
        "id": "2hJBXMVJvYNd"
      }
    },
    {
      "cell_type": "code",
      "source": [
        "import numpy as np\n",
        "\n",
        "A = np.array([[-1, 1, 1, 1],\n",
        "              [7/8, -1, 0, 0],\n",
        "              [1/16, 0, -1, 0],\n",
        "              [1, 1, 1, 1]])\n",
        "\n",
        "B = np.array([0, 0, 0, 1])\n",
        "X = np.linalg.inv(A).dot(B)\n",
        "\n",
        "print(X)"
      ],
      "metadata": {
        "colab": {
          "base_uri": "https://localhost:8080/"
        },
        "id": "t4oXJOuBvab5",
        "outputId": "9d325c7a-453d-47d1-8ac9-d0ad0da47d63"
      },
      "execution_count": null,
      "outputs": [
        {
          "output_type": "stream",
          "name": "stdout",
          "text": [
            "[0.5     0.4375  0.03125 0.03125]\n"
          ]
        }
      ]
    }
  ]
}